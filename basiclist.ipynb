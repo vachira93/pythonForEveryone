{
 "cells": [
  {
   "cell_type": "markdown",
   "metadata": {},
   "source": [
    "### list "
   ]
  },
  {
   "cell_type": "code",
   "execution_count": 10,
   "metadata": {},
   "outputs": [],
   "source": [
    "cars = ['toyota','honda','benz']"
   ]
  },
  {
   "cell_type": "code",
   "execution_count": 11,
   "metadata": {},
   "outputs": [
    {
     "name": "stdout",
     "output_type": "stream",
     "text": [
      "['toyota', 'honda', 'benz', 'nissan']\n"
     ]
    }
   ],
   "source": [
    "cars.append('nissan') # เป็นการเพิ่มค่าลงไปใน list\n",
    "print(cars)"
   ]
  },
  {
   "cell_type": "code",
   "execution_count": 12,
   "metadata": {},
   "outputs": [
    {
     "name": "stdout",
     "output_type": "stream",
     "text": [
      "['toyota', 'benz', 'nissan']\n"
     ]
    }
   ],
   "source": [
    "cars.remove('honda') # เป็นการลบค่าใน list \n",
    "print(cars)"
   ]
  },
  {
   "cell_type": "code",
   "execution_count": 13,
   "metadata": {},
   "outputs": [
    {
     "name": "stdout",
     "output_type": "stream",
     "text": [
      "['tesla', 'toyota', 'benz', 'nissan']\n"
     ]
    }
   ],
   "source": [
    "cars.insert(0,'tesla') # เป็นการเพิ่มข้อมูลใน list แบบระบุตำแหน่ง\n",
    "print(cars)"
   ]
  },
  {
   "cell_type": "code",
   "execution_count": 14,
   "metadata": {},
   "outputs": [
    {
     "name": "stdout",
     "output_type": "stream",
     "text": [
      "toyota\n",
      "tesla\n"
     ]
    }
   ],
   "source": [
    "print(cars[1]) # เป็นการแสดงข้อมูลแบบระบุตำแหน่ง\n",
    "print(cars[0])"
   ]
  },
  {
   "cell_type": "code",
   "execution_count": 15,
   "metadata": {},
   "outputs": [
    {
     "name": "stdout",
     "output_type": "stream",
     "text": [
      "tesla\n",
      "toyota\n",
      "benz\n",
      "nissan\n"
     ]
    }
   ],
   "source": [
    "for c in cars:\n",
    "    print(c)\n",
    "## เป็นการแสดงผลออกมาที่ละบรรทัด"
   ]
  },
  {
   "cell_type": "code",
   "execution_count": 16,
   "metadata": {},
   "outputs": [
    {
     "name": "stdout",
     "output_type": "stream",
     "text": [
      "tesla toyota benz nissan\n"
     ]
    }
   ],
   "source": [
    "print(*cars) # แสดงผลให้อยู่ในบรรทัดเดียวไม่ต้องมีอะไรมาคั่น"
   ]
  },
  {
   "cell_type": "code",
   "execution_count": 17,
   "metadata": {},
   "outputs": [
    {
     "name": "stdout",
     "output_type": "stream",
     "text": [
      "0 tesla\n",
      "1 toyota\n",
      "2 benz\n",
      "3 nissan\n"
     ]
    }
   ],
   "source": [
    "for i,c in enumerate(cars):\n",
    "    print(i,c)\n",
    "### enumerate เป็นการทำลำดับให้ list"
   ]
  },
  {
   "cell_type": "code",
   "execution_count": 18,
   "metadata": {},
   "outputs": [
    {
     "name": "stdout",
     "output_type": "stream",
     "text": [
      "1 tesla\n",
      "2 toyota\n",
      "3 benz\n",
      "4 nissan\n"
     ]
    }
   ],
   "source": [
    "for i,c in enumerate(cars,start=1):\n",
    "    print(i,c)\n",
    "### enumerate เป็นการทำลำดับให้ list และให้ลำดับเริ่มต้นที่เลข 1"
   ]
  },
  {
   "cell_type": "code",
   "execution_count": 20,
   "metadata": {},
   "outputs": [
    {
     "name": "stdout",
     "output_type": "stream",
     "text": [
      "ลำดับที่ 1 tesla\n",
      "ลำดับที่ 2 toyota\n",
      "ลำดับที่ 3 benz\n",
      "ลำดับที่ 4 nissan\n"
     ]
    }
   ],
   "source": [
    "for i,c in enumerate(cars,start=1):\n",
    "    print('ลำดับที่ {} {}'.format(i,c))\n",
    "### เป็นการใส่ลำดับที่ใน list"
   ]
  },
  {
   "cell_type": "code",
   "execution_count": 21,
   "metadata": {},
   "outputs": [
    {
     "name": "stdout",
     "output_type": "stream",
     "text": [
      "['tesla', 'isuzu', 'benz', 'nissan']\n"
     ]
    }
   ],
   "source": [
    "cars[1] = 'isuzu' # เป็นการแทนค่าใน list\n",
    "print(cars)"
   ]
  },
  {
   "cell_type": "code",
   "execution_count": 22,
   "metadata": {},
   "outputs": [
    {
     "name": "stdout",
     "output_type": "stream",
     "text": [
      "['tesla', 'isuzu', 'nissan']\n"
     ]
    }
   ],
   "source": [
    "del cars[2] # เป็นการลบ list\n",
    "print(cars)"
   ]
  },
  {
   "cell_type": "code",
   "execution_count": null,
   "metadata": {},
   "outputs": [],
   "source": [
    "size = int(input())\n",
    "if size <= 34:\n",
    "    print(\"XS\")\n",
    "elif size <= 36:\n",
    "    print(\"s\")\n",
    "elif size <= 38:\n",
    "    print(\"M\")\n",
    "elif size <= 40:\n",
    "    print(\"L\")\n",
    "else:\n",
    "    print(\"XL\")\n"
   ]
  },
  {
   "cell_type": "code",
   "execution_count": null,
   "metadata": {},
   "outputs": [],
   "source": [
    "size = int(input())"
   ]
  },
  {
   "cell_type": "code",
   "execution_count": null,
   "metadata": {},
   "outputs": [],
   "source": [
    "if size <= 34:\n",
    "    print(\"XS\")\n",
    "elif size <= 36:\n",
    "    print(\"s\")\n",
    "elif size <= 38:\n",
    "    print(\"M\")\n",
    "elif size <= 40:\n",
    "    print(\"L\")\n",
    "else:\n",
    "    print(\"XL\")"
   ]
  }
 ],
 "metadata": {
  "kernelspec": {
   "display_name": "Python 3",
   "language": "python",
   "name": "python3"
  },
  "language_info": {
   "codemirror_mode": {
    "name": "ipython",
    "version": 3
   },
   "file_extension": ".py",
   "mimetype": "text/x-python",
   "name": "python",
   "nbconvert_exporter": "python",
   "pygments_lexer": "ipython3",
   "version": "3.12.2"
  }
 },
 "nbformat": 4,
 "nbformat_minor": 2
}
